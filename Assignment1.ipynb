{
 "cells": [
  {
   "cell_type": "code",
   "execution_count": null,
   "id": "7ff9e10d-fc64-4066-97ae-f7490062a0db",
   "metadata": {},
   "outputs": [],
   "source": [
    "1.Python Programming Language is developed by Guidovan Rossum in the year of 1989.\n",
    "2.Python support Dynamic typed language and it is also a high level language.\n",
    "3.Yes,Python is case-sensitive when dealing with Identifiers.\n",
    "4..py is the correct extension for python file.\n",
    "5.Python is an interpreted language.\n",
    "6.Identation is used to define a block of code in python.\n",
    "7.The character which is used to give single line comment in Python is #.\n",
    "8.python_version() is used to find the version of python that we are currently working on.\n",
    "9.Python supports the creation of anonymous functions at run time,using a constructor called lambda function.\n",
    "10.pip stands for preferred installer program.\n",
    "11.The few built-in functions are input(),str(),print(),type(),len(),id(),.\n",
    "12.The maximum possible length of an identifier in python is 79 characters.\n",
    "13.The benefits of using python is it is one of the top three programming languages in the world.\n",
    "   Also, Python programming is a general purpose skills used in almost all fields,including:\n",
    "        a.Data science\n",
    "        b.web development\n",
    "        c.Basic game develoment\n",
    "        d.computer graphics\n",
    "        e.system automation and administration\n",
    "14.In Python,memory is managed by the python manager which determines where to put the application data in the memory .\n",
    "   The procedure of providing memory to the objects is called allocation.The python memory management system handles memory allocaton in python.\n",
    "   Python has a private heap that stores our program's object and data structures.python memory manager takes care of the bulk of the memory\n",
    "   management work and allows us to concentrate on our code.\n",
    "15.The below steps are followed to install the python and set path variables in our windows:\n",
    "    a.Type \"python\" in the windows search bar.\n",
    "    b.Right-click on the python app ,and then select\"open file locaton\"\n",
    "    c.Right-click again on the python shortcut,and then select \"open file location\"\n",
    "To create a pyhtonpath variable ,we need to first open the command prompt.Once the Command prompt is open ,we need to type the following command:setx/M Pyhtonpath \"c:\\Pyhton27\\Lib\".\n",
    "16."
   ]
  }
 ],
 "metadata": {
  "kernelspec": {
   "display_name": "Python 3 (ipykernel)",
   "language": "python",
   "name": "python3"
  },
  "language_info": {
   "codemirror_mode": {
    "name": "ipython",
    "version": 3
   },
   "file_extension": ".py",
   "mimetype": "text/x-python",
   "name": "python",
   "nbconvert_exporter": "python",
   "pygments_lexer": "ipython3",
   "version": "3.10.8"
  }
 },
 "nbformat": 4,
 "nbformat_minor": 5
}
